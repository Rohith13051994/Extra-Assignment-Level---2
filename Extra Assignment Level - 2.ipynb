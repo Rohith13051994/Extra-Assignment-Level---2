{
 "cells": [
  {
   "cell_type": "code",
   "execution_count": 3,
   "id": "d8ad6b44-4bd2-4ec1-8c9d-6ce1d01d21bc",
   "metadata": {},
   "outputs": [
    {
     "name": "stdout",
     "output_type": "stream",
     "text": [
      "0\n",
      "1\n",
      "2\n",
      "3\n",
      "4\n",
      "5\n",
      "6\n",
      "7\n",
      "8\n",
      "9\n",
      "10\n",
      "11\n",
      "12\n",
      "13\n",
      "14\n",
      "15\n",
      "16\n",
      "17\n",
      "18\n",
      "19\n"
     ]
    }
   ],
   "source": [
    "#print range 0 to 20\n",
    "\n",
    "values=range(0,20)\n",
    "for num in values:\n",
    "  print(num)"
   ]
  },
  {
   "cell_type": "code",
   "execution_count": 15,
   "id": "7c5fb180-7fe8-444a-a9e8-0c7b2a1915bc",
   "metadata": {},
   "outputs": [
    {
     "name": "stdout",
     "output_type": "stream",
     "text": [
      "10 11 12 13 14 15 16 17 18 19 "
     ]
    }
   ],
   "source": [
    "# print range 10 to 20\n",
    "\n",
    "values = range(10,20)\n",
    "for num in values:\n",
    "    print(num, end=' ')"
   ]
  },
  {
   "cell_type": "code",
   "execution_count": 21,
   "id": "f33dd8f4-8c4e-47bd-8e5f-df7df05ef877",
   "metadata": {},
   "outputs": [
    {
     "name": "stdout",
     "output_type": "stream",
     "text": [
      "[23, 45, 67, 89, 23, 45]\n",
      "Number of items in the list:\n",
      "6\n"
     ]
    }
   ],
   "source": [
    "# Print number of items in the list by using 'len'\n",
    "\n",
    "list=[23, 45, 67, 89, 23, 45]\n",
    "print(list)\n",
    "print(\"Number of items in the list:\")\n",
    "print(len(list))"
   ]
  },
  {
   "cell_type": "code",
   "execution_count": 23,
   "id": "0e465921-f0b2-441c-9c3c-aef78bcd025f",
   "metadata": {},
   "outputs": [
    {
     "name": "stdout",
     "output_type": "stream",
     "text": [
      "Artificial Intelligence\n",
      "A\n",
      "r\n",
      "t\n",
      "i\n",
      "f\n",
      "i\n",
      "c\n",
      "i\n",
      "a\n",
      "l\n",
      " \n",
      "I\n",
      "n\n",
      "t\n",
      "e\n",
      "l\n",
      "l\n",
      "i\n",
      "g\n",
      "e\n",
      "n\n",
      "c\n",
      "e\n"
     ]
    }
   ],
   "source": [
    "text='Artificial Intelligence'\n",
    "print(text)\n",
    "for letter in text:\n",
    "    print(letter)"
   ]
  },
  {
   "cell_type": "code",
   "execution_count": 31,
   "id": "a4eb31f0-d5f7-4ced-aee6-627155dcb6cf",
   "metadata": {},
   "outputs": [
    {
     "name": "stdout",
     "output_type": "stream",
     "text": [
      "Rohith\n",
      "30\n",
      "Stock Broker\n"
     ]
    }
   ],
   "source": [
    "print(\"Rohith\\n30\\nStock Broker\")"
   ]
  },
  {
   "cell_type": "code",
   "execution_count": 37,
   "id": "1c10e5f2-0c3e-4686-9e7b-32c935b35a57",
   "metadata": {},
   "outputs": [
    {
     "name": "stdout",
     "output_type": "stream",
     "text": [
      "(1, 'Welcome', 2, 'Hope')\n"
     ]
    }
   ],
   "source": [
    "tuple_values=(1, 'Welcome', 2, 'Hope')\n",
    "print(tuple_values)"
   ]
  },
  {
   "cell_type": "code",
   "execution_count": 39,
   "id": "1d3d0a3e-15f3-4710-bdf4-ebe1cbf4e69c",
   "metadata": {},
   "outputs": [
    {
     "name": "stdout",
     "output_type": "stream",
     "text": [
      "(0, 1, 2, 3, 'python', 'HOPE')\n"
     ]
    }
   ],
   "source": [
    "tuple1=(0, 1, 2, 3)\n",
    "tuple2=('python', 'HOPE')\n",
    "tuple3=tuple1+tuple2\n",
    "print(tuple3)"
   ]
  },
  {
   "cell_type": "code",
   "execution_count": 47,
   "id": "11d2b7b0-d809-4fa5-b036-2a4c50d4427f",
   "metadata": {},
   "outputs": [
    {
     "name": "stdout",
     "output_type": "stream",
     "text": [
      "(20, 10, 16, 19, 25, 1, 276, 188)\n",
      "19 is odd\n",
      "25 is odd\n",
      "1 is odd\n"
     ]
    }
   ],
   "source": [
    "# print Odd Numbers in the list\n",
    "\n",
    "list=(20,10,16,19,25,1,276,188)\n",
    "print(list)\n",
    "for num in list:\n",
    "    if(num%2==1):\n",
    "      print(num, \"is odd\")"
   ]
  },
  {
   "cell_type": "code",
   "execution_count": 49,
   "id": "38401b70-218e-4fc9-ad7d-d348f7235aa3",
   "metadata": {},
   "outputs": [
    {
     "name": "stdout",
     "output_type": "stream",
     "text": [
      "(20, 10, 16, 19, 25, 1, 276, 188)\n",
      "20 is even\n",
      "10 is even\n",
      "16 is even\n",
      "276 is even\n",
      "188 is even\n"
     ]
    }
   ],
   "source": [
    "# print Even numbers in the list\n",
    "\n",
    "list=(20,10,16,19,25,1,276,188)\n",
    "print(list)\n",
    "for num in list:\n",
    "    if(num%2==0):\n",
    "      print(num, \"is even\")"
   ]
  },
  {
   "cell_type": "code",
   "execution_count": null,
   "id": "dfa1de82-5f30-4daf-9de6-7602279903f4",
   "metadata": {},
   "outputs": [],
   "source": []
  }
 ],
 "metadata": {
  "kernelspec": {
   "display_name": "Python 3 (ipykernel)",
   "language": "python",
   "name": "python3"
  },
  "language_info": {
   "codemirror_mode": {
    "name": "ipython",
    "version": 3
   },
   "file_extension": ".py",
   "mimetype": "text/x-python",
   "name": "python",
   "nbconvert_exporter": "python",
   "pygments_lexer": "ipython3",
   "version": "3.11.7"
  }
 },
 "nbformat": 4,
 "nbformat_minor": 5
}
